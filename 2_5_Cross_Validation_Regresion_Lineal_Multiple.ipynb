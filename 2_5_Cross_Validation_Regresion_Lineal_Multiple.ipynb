{
 "cells": [
  {
   "cell_type": "markdown",
   "metadata": {},
   "source": [
    "# 2_5 - Cross Validation: Regresion Lineal Multiple\n",
    "\n",
    "\n",
    "* El objetivo de este Notebook es el de ***resolver un problema de regresión generando 'N' modelos entrenados con 'N' conjuntos de entrenamiento distintos y evaluados con 'N' conjuntos de test distintos***, particionando los datos con la técnica de ***Cross Validation***.\n",
    "\n",
    "\n",
    "* Para ello, dado un Dataset, vamos a particionar 'N' veces los datos con la técnica de particionado ***Cross Validation*** y generar 'N' Modelos, viendo los errores cometidos por estos modelos con los diferentes conjuntos de datos.\n",
    "\n",
    "\n",
    "* El ejemplo que vamos a realizar consiste en predecir cuantas calorías voy a quemar en función de los minutos que voy a estar corriendo, la velocidad media a la que corro y mi peso. Por ello tenemos un conjunto de datos tomados de forma empírica que nos dan esa relación. Por tanto el objetivo es encontrar los parámetros de la recta que mejor se ajustan a esos datos.\n",
    "\n",
    "\n",
    "* El ejemplo que vamos a realizar, consiste en predecir cuantas ***calorías quema una persona en función de los minutos que corre, la velocidad a la que corre y su peso corporal***. Por ello tenemos un conjunto de datos tomados de forma empírica que nos dan esa relación.\n",
    "\n",
    "\n",
    "* El objetivo es encontrar los parámetros $\\beta_0, \\beta_1, \\beta_2, \\beta_3$ que ***mejor se ajustan a los datos de entrenamiento***.\n",
    "\n",
    "<span style=\"font-size:16px\">$$Calorias = \\beta_0 + \\beta_1 \\cdot Tiempo + \\beta_3 \\cdot Velocidad + \\beta_3 \\cdot Peso$$</span>\n",
    "\n",
    "\n",
    "* Para ello vamos a realizar los siguientes pasos:\n",
    "\n",
    "    1. Carga de Datos\n",
    "    2. Cambio de estructura de datos a numpy\n",
    "    3. 'N' Particionados de datos en Entrenamiento y Test\n",
    "    4. Generación y evaluación de los 'N' modelos con MAE\n",
    "    5. Conclusiones: Comparativa de resultados\n",
    "\n",
    "<hr>\n",
    "\n",
    "\n",
    "* En primer lugar importemos las librerías necesarias:\n"
   ]
  },
  {
   "cell_type": "code",
   "execution_count": 1,
   "metadata": {},
   "outputs": [],
   "source": [
    "import numpy as np\n",
    "import pandas as pd\n",
    "import matplotlib.pyplot as plt\n",
    "%matplotlib inline \n",
    "from sklearn import linear_model\n",
    "from sklearn.model_selection import KFold\n",
    "from sklearn.metrics import mean_absolute_error, mean_squared_error"
   ]
  },
  {
   "cell_type": "markdown",
   "metadata": {},
   "source": [
    "<hr>\n",
    "\n",
    "\n",
    "## 1. Carga de Datos\n",
    "\n",
    "\n",
    "* El primer paso que vamos a realizar es el de cargar los datos que los tenemos en los siguientes ficheros:\n",
    "    - ***DataSet***: \"./data/calorias_running/calories_time_weight_speed.csv\"\n",
    "\n",
    "\n",
    "* Para ello ***leeremos el csv con pandas*** (pasandolo a un dataframe), teniendo las siguientes columnas:\n",
    "    - Calorias\n",
    "    - Tiempo\n",
    "    - Peso\n",
    "    - Velocidad"
   ]
  },
  {
   "cell_type": "code",
   "execution_count": 2,
   "metadata": {},
   "outputs": [
    {
     "data": {
      "text/html": [
       "<div>\n",
       "<style scoped>\n",
       "    .dataframe tbody tr th:only-of-type {\n",
       "        vertical-align: middle;\n",
       "    }\n",
       "\n",
       "    .dataframe tbody tr th {\n",
       "        vertical-align: top;\n",
       "    }\n",
       "\n",
       "    .dataframe thead th {\n",
       "        text-align: right;\n",
       "    }\n",
       "</style>\n",
       "<table border=\"1\" class=\"dataframe\">\n",
       "  <thead>\n",
       "    <tr style=\"text-align: right;\">\n",
       "      <th></th>\n",
       "      <th>Calorias</th>\n",
       "      <th>Tiempo</th>\n",
       "      <th>Peso</th>\n",
       "      <th>Velocidad</th>\n",
       "    </tr>\n",
       "  </thead>\n",
       "  <tbody>\n",
       "    <tr>\n",
       "      <th>662</th>\n",
       "      <td>983.0</td>\n",
       "      <td>78.8</td>\n",
       "      <td>68.9</td>\n",
       "      <td>10.5</td>\n",
       "    </tr>\n",
       "    <tr>\n",
       "      <th>4067</th>\n",
       "      <td>486.7</td>\n",
       "      <td>39.5</td>\n",
       "      <td>63.0</td>\n",
       "      <td>11.3</td>\n",
       "    </tr>\n",
       "    <tr>\n",
       "      <th>2227</th>\n",
       "      <td>64.9</td>\n",
       "      <td>7.9</td>\n",
       "      <td>32.5</td>\n",
       "      <td>14.6</td>\n",
       "    </tr>\n",
       "    <tr>\n",
       "      <th>4764</th>\n",
       "      <td>402.8</td>\n",
       "      <td>25.2</td>\n",
       "      <td>61.2</td>\n",
       "      <td>15.1</td>\n",
       "    </tr>\n",
       "    <tr>\n",
       "      <th>4077</th>\n",
       "      <td>745.1</td>\n",
       "      <td>62.2</td>\n",
       "      <td>63.0</td>\n",
       "      <td>11.0</td>\n",
       "    </tr>\n",
       "  </tbody>\n",
       "</table>\n",
       "</div>"
      ],
      "text/plain": [
       "      Calorias  Tiempo  Peso  Velocidad\n",
       "662      983.0    78.8  68.9       10.5\n",
       "4067     486.7    39.5  63.0       11.3\n",
       "2227      64.9     7.9  32.5       14.6\n",
       "4764     402.8    25.2  61.2       15.1\n",
       "4077     745.1    62.2  63.0       11.0"
      ]
     },
     "execution_count": 2,
     "metadata": {},
     "output_type": "execute_result"
    }
   ],
   "source": [
    "df = pd.read_csv(\"./data/calorias_running/calories_time_weight_speed.csv\")\n",
    "df.sample(5)"
   ]
  },
  {
   "cell_type": "markdown",
   "metadata": {},
   "source": [
    "<hr>\n",
    "\n",
    "\n",
    "## 2. Cambio de estructura de datos a numpy\n",
    "\n",
    "\n",
    "* Vamos a pasar los datos de las calorias y el tiempo a una nueva estructura de datos para que scikit-learn puedan trabajar con los datos:\n",
    "<span></span><br><br>\n",
    "    - Las ***columna Tiempo, Peso y Velocidad*** representan las variables independientes 'x<sub>n</sub>' y las vamos a pasar a un array de array (***numpy array***)\n",
    "<span></span><br><br>\n",
    "    - La ***columna calorias*** que representa la variable dependiente 'y', la vamos a pasar a un ***numpy array***"
   ]
  },
  {
   "cell_type": "code",
   "execution_count": 3,
   "metadata": {},
   "outputs": [],
   "source": [
    "X = df[['Tiempo', 'Velocidad', 'Peso']].values\n",
    "y = df['Calorias'].values"
   ]
  },
  {
   "cell_type": "markdown",
   "metadata": {},
   "source": [
    "<hr>\n",
    "\n",
    "\n",
    "## 3. 'N' Particionados de datos en Entrenamiento y Test\n",
    "\n",
    "\n",
    "* En este punto vamos a dividir el dataset en 'N' conjuntos de datos.\n",
    "\n",
    "\n",
    "* En cada una de las 'N' iteracciones, un conjunto de datos sera conjunto de datos de test y el resto de conjuntos serán datos de entrenamiento.\n",
    "\n",
    "\n",
    "* En Scikit utilizamos la clase ***KFold(n_splits)*** para dividir el Dataset en ***'N'*** (n_splits) conjuntos.\n",
    "\n",
    "\n",
    "* En este caso no vamos a obtener unos arrays con los datos de entrenamiento y test; si no, los ***índices de los elementos del Dataset que en cada paso actuarán como entrenamiento y como test***.\n",
    "\n",
    "\n",
    "* Para el ejemplo que vamos a realizar vamos a dividir el dataset en 10 conjuntos de datos:"
   ]
  },
  {
   "cell_type": "code",
   "execution_count": 4,
   "metadata": {},
   "outputs": [],
   "source": [
    "k_fold = KFold(n_splits=10)"
   ]
  },
  {
   "cell_type": "markdown",
   "metadata": {},
   "source": [
    "<hr>\n",
    "\n",
    "\n",
    "## 4. Generación y evaluación de los 'N' modelos con MAE\n",
    "\n",
    "\n",
    "* Vamos a generar tantos modelos como particiones hayamos realizado y vamos a evaluarlos con los datos de entrenamiento y test:"
   ]
  },
  {
   "cell_type": "code",
   "execution_count": 5,
   "metadata": {},
   "outputs": [
    {
     "name": "stdout",
     "output_type": "stream",
     "text": [
      "\n",
      "Calorias = -1157.95 + 14.24 Tiempo + 46.27 Velocidad + 8.54 Peso\n",
      "TRAIN - MAE: 48.65\n",
      "TEST - MAE: 43.96\n",
      "\n",
      "Calorias = -1173.56 + 14.27 Tiempo + 46.96 Velocidad + 8.62 Peso\n",
      "TRAIN - MAE: 48.75\n",
      "TEST - MAE: 43.89\n",
      "\n",
      "Calorias = -1161.30 + 14.27 Tiempo + 46.44 Velocidad + 8.54 Peso\n",
      "TRAIN - MAE: 48.06\n",
      "TEST - MAE: 49.39\n",
      "\n",
      "Calorias = -1165.42 + 14.29 Tiempo + 46.66 Velocidad + 8.55 Peso\n",
      "TRAIN - MAE: 47.81\n",
      "TEST - MAE: 51.33\n",
      "\n",
      "Calorias = -1165.95 + 14.25 Tiempo + 46.61 Velocidad + 8.59 Peso\n",
      "TRAIN - MAE: 48.16\n",
      "TEST - MAE: 48.45\n",
      "\n",
      "Calorias = -1163.89 + 14.26 Tiempo + 46.68 Velocidad + 8.54 Peso\n",
      "TRAIN - MAE: 47.66\n",
      "TEST - MAE: 52.66\n",
      "\n",
      "Calorias = -1163.89 + 14.27 Tiempo + 46.66 Velocidad + 8.54 Peso\n",
      "TRAIN - MAE: 48.02\n",
      "TEST - MAE: 49.48\n",
      "\n",
      "Calorias = -1155.83 + 14.25 Tiempo + 46.57 Velocidad + 8.45 Peso\n",
      "TRAIN - MAE: 48.29\n",
      "TEST - MAE: 47.12\n",
      "\n",
      "Calorias = -1173.11 + 14.26 Tiempo + 46.96 Velocidad + 8.61 Peso\n",
      "TRAIN - MAE: 48.36\n",
      "TEST - MAE: 47.65\n",
      "\n",
      "Calorias = -1167.63 + 14.26 Tiempo + 46.79 Velocidad + 8.56 Peso\n",
      "TRAIN - MAE: 48.23\n",
      "TEST - MAE: 48.57\n"
     ]
    }
   ],
   "source": [
    "l_mae_train = []\n",
    "l_mae_test = []\n",
    "\n",
    "for train, test in k_fold.split(X, y):\n",
    "    \n",
    "    # Creo un nuevo objeto de la clase LinearRegression\n",
    "    reg_mul = linear_model.LinearRegression()\n",
    "    \n",
    "    # Ajusto el modelo\n",
    "    reg_mul.fit(X[train], y[train])\n",
    "    \n",
    "    # Imprimo el modelo\n",
    "    print (\"\\nCalorias = {b0:0.2f} + {b1:0.2f} Tiempo + {b2:0.2f} Velocidad + {b3:0.2f} Peso\"\n",
    "       .format(b0=reg_mul.intercept_, b1=reg_mul.coef_[0], b2=reg_mul.coef_[1], b3=reg_mul.coef_[2]))\n",
    "    \n",
    "    # Prediccion\n",
    "    y_train_predict = reg_mul.predict(X[train])\n",
    "    y_test_predict = reg_mul.predict(X[test])\n",
    "    \n",
    "    # Errores\n",
    "    mae_train = mean_absolute_error(y_true=y[train], y_pred=y_train_predict)\n",
    "    mae_test = mean_absolute_error(y_true=y[test], y_pred=y_test_predict)\n",
    "    print(\"TRAIN - MAE: {error:0.2f}\".format(error=mae_train))\n",
    "    print(\"TEST - MAE: {error:0.2f}\".format(error=mae_test))\n",
    "    \n",
    "    # Guardamos los errores\n",
    "    l_mae_train.append(mae_train)\n",
    "    l_mae_test.append(mae_test)"
   ]
  },
  {
   "cell_type": "markdown",
   "metadata": {},
   "source": [
    "<hr>\n",
    "\n",
    "\n",
    "## 5. Conclusiones: Comparativa de resultados\n",
    "\n",
    "\n",
    "* En la siguiente gráfica podemos observar en cada generación del modelo con diferentes conjuntos de entrenamiento y test lo siguiente:\n",
    "<span></span><br><br>\n",
    "    - El error comentido con el modelo generado en cada iteración con los conjuntos de entrenamiento es más o menos similar, con lo que el algoritmo de aprendizaje genera un modelo muy robusto.\n",
    "<span></span><br><br>    \n",
    "    - El error cometido con los datos de test es más variable (lo cual es normal), incluso en ocasiones se comete menos error con los datos de test que con los de entrenamiento.\n",
    "<span></span><br><br>    \n",
    "    - Los errores de los modelos tanto con los datos de test como de entrenamiento son muy similares entre sí, con lo que podemos concluir que el algoritmo de aprendizaje con los datos disponibles, genera un modelo muy robusto que geneeraliza bastante bien."
   ]
  },
  {
   "cell_type": "code",
   "execution_count": 6,
   "metadata": {},
   "outputs": [
    {
     "data": {
      "image/png": "[encoded data removed]",
      "text/plain": [
       "<Figure size 576x432 with 1 Axes>"
      ]
     },
     "metadata": {
      "needs_background": "light"
     },
     "output_type": "display_data"
    }
   ],
   "source": [
    "fig, ax =  plt.subplots(figsize=(8, 6))\n",
    "ax.plot([index for index, value in enumerate(l_mae_train)], [mae for mae in l_mae_train])\n",
    "ax.plot([index for index, value in enumerate(l_mae_test)], [mae for mae in l_mae_test])\n",
    "ax.set_title(\"MAE-Iteración\")\n",
    "ax.set_xlabel(\"Iteración\")\n",
    "ax.set_ylabel(\"MAE\")\n",
    "ax.grid(True)\n",
    "plt.gca().legend(('Train','Test'))\n",
    "plt.show()"
   ]
  }
 ],
 "metadata": {
  "kernelspec": {
   "display_name": "Python 3",
   "language": "python",
   "name": "python3"
  },
  "language_info": {
   "codemirror_mode": {
    "name": "ipython",
    "version": 3
   },
   "file_extension": ".py",
   "mimetype": "text/x-python",
   "name": "python",
   "nbconvert_exporter": "python",
   "pygments_lexer": "ipython3",
   "version": "3.6.10"
  }
 },
 "nbformat": 4,
 "nbformat_minor": 2
}
