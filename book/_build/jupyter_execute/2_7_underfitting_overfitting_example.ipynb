{
 "cells": [
  {
   "cell_type": "markdown",
   "id": "977b69ef",
   "metadata": {},
   "source": [
    "# Underfitting y Overfitting en Modelos Polinomiales"
   ]
  },
  {
   "cell_type": "markdown",
   "id": "52a30731",
   "metadata": {},
   "source": [
    "En este ejemplo, generaremos un dataset basado en un polinomio de grado 2 y veremos cómo ajustan diferentes modelos de regresión con grados crecientes. Observaremos los errores de entrenamiento y testeo para analizar los conceptos de underfitting y overfitting."
   ]
  },
  {
   "cell_type": "code",
   "execution_count": 1,
   "id": "09b34fe5",
   "metadata": {},
   "outputs": [
    {
     "ename": "ModuleNotFoundError",
     "evalue": "No module named 'numpy'",
     "output_type": "error",
     "traceback": [
      "\u001b[31m---------------------------------------------------------------------------\u001b[39m",
      "\u001b[31mModuleNotFoundError\u001b[39m                       Traceback (most recent call last)",
      "\u001b[36mCell\u001b[39m\u001b[36m \u001b[39m\u001b[32mIn[1]\u001b[39m\u001b[32m, line 1\u001b[39m\n\u001b[32m----> \u001b[39m\u001b[32m1\u001b[39m \u001b[38;5;28;01mimport\u001b[39;00m\u001b[38;5;250m \u001b[39m\u001b[34;01mnumpy\u001b[39;00m\u001b[38;5;250m \u001b[39m\u001b[38;5;28;01mas\u001b[39;00m\u001b[38;5;250m \u001b[39m\u001b[34;01mnp\u001b[39;00m\n\u001b[32m      2\u001b[39m \u001b[38;5;28;01mimport\u001b[39;00m\u001b[38;5;250m \u001b[39m\u001b[34;01mmatplotlib\u001b[39;00m\u001b[34;01m.\u001b[39;00m\u001b[34;01mpyplot\u001b[39;00m\u001b[38;5;250m \u001b[39m\u001b[38;5;28;01mas\u001b[39;00m\u001b[38;5;250m \u001b[39m\u001b[34;01mplt\u001b[39;00m\n\u001b[32m      3\u001b[39m \u001b[38;5;28;01mfrom\u001b[39;00m\u001b[38;5;250m \u001b[39m\u001b[34;01msklearn\u001b[39;00m\u001b[34;01m.\u001b[39;00m\u001b[34;01mmodel_selection\u001b[39;00m\u001b[38;5;250m \u001b[39m\u001b[38;5;28;01mimport\u001b[39;00m train_test_split\n",
      "\u001b[31mModuleNotFoundError\u001b[39m: No module named 'numpy'"
     ]
    }
   ],
   "source": [
    "import numpy as np\n",
    "import matplotlib.pyplot as plt\n",
    "from sklearn.model_selection import train_test_split\n",
    "from sklearn.preprocessing import PolynomialFeatures\n",
    "from sklearn.linear_model import LinearRegression\n",
    "from sklearn.metrics import mean_squared_error\n",
    "\n",
    "# Generar dataset basado en un polinomio de grado 5 con algo de ruido\n",
    "np.random.seed(42)\n",
    "n_samples = 100\n",
    "X = np.random.uniform(-10, 10, size=n_samples)\n",
    "y = 3.5 * X**5 + 3.5 * X**4 + 1.5 * X**3 + 4.5 * X**2- 3.0 * X + 2 + np.random.normal(0, 10, size=n_samples)\n",
    "\n",
    "# Separar en conjuntos de entrenamiento y prueba\n",
    "X_train, X_test, y_train, y_test = train_test_split(X, y, test_size=0.3, random_state=42)\n",
    "\n",
    "# Función para ajustar y mostrar los resultados con diferentes grados del polinomio\n",
    "def ajustar_modelo(grado):\n",
    "    poly = PolynomialFeatures(degree=grado)\n",
    "    X_train_poly = poly.fit_transform(X_train.reshape(-1, 1))\n",
    "    X_test_poly = poly.transform(X_test.reshape(-1, 1))\n",
    "\n",
    "    modelo = LinearRegression()\n",
    "    modelo.fit(X_train_poly, y_train)\n",
    "    \n",
    "    y_train_pred = modelo.predict(X_train_poly)\n",
    "    y_test_pred = modelo.predict(X_test_poly)\n",
    "\n",
    "    train_error = mean_squared_error(y_train, y_train_pred)\n",
    "    test_error = mean_squared_error(y_test, y_test_pred)\n",
    "    \n",
    "    return modelo, train_error, test_error, poly\n",
    "\n",
    "# Ajustar diferentes modelos\n",
    "modelos = {}\n",
    "train_errors = []\n",
    "test_errors = []\n",
    "\n",
    "for grado in range(1, 8):  # Probar de grado 1 a 5\n",
    "    modelo, train_error, test_error, poly = ajustar_modelo(grado)\n",
    "    modelos[grado] = (modelo, poly)\n",
    "    train_errors.append(train_error)\n",
    "    test_errors.append(test_error)\n",
    "\n",
    "# Graficar errores de entrenamiento y prueba\n",
    "plt.figure(figsize=(10, 6))\n",
    "plt.plot(range(1, 8), train_errors, label=\"Error de Entrenamiento\", marker='o')\n",
    "plt.plot(range(1, 8), test_errors, label=\"Error de Testeo\", marker='o')\n",
    "plt.xlabel(\"Grado del Polinomio\")\n",
    "plt.ylabel(\"Error Cuadrático Medio\")\n",
    "plt.title(\"Error de Entrenamiento y Testeo vs Grado del Polinomio\")\n",
    "plt.legend()\n",
    "plt.grid(True)\n",
    "plt.show()\n"
   ]
  },
  {
   "cell_type": "markdown",
   "id": "8894b6c1",
   "metadata": {},
   "source": [
    "Podemos ver que con un modelo lineal (grado 1), el error de entrenamiento y testeo es alto, lo que indica underfitting. A medida que aumentamos el grado del polinomio, el error de entrenamiento disminuye, pero el error de testeo comienza a aumentar con grados mayores, lo que sugiere overfitting."
   ]
  }
 ],
 "metadata": {
  "kernelspec": {
   "display_name": "Python 3",
   "language": "python",
   "name": "python3"
  },
  "language_info": {
   "codemirror_mode": {
    "name": "ipython",
    "version": 3
   },
   "file_extension": ".py",
   "mimetype": "text/x-python",
   "name": "python",
   "nbconvert_exporter": "python",
   "pygments_lexer": "ipython3",
   "version": "3.13.2"
  }
 },
 "nbformat": 4,
 "nbformat_minor": 5
}