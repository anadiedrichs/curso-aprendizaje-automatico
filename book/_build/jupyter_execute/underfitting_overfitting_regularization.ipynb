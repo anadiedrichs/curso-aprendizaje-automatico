{
 "cells": [
  {
   "cell_type": "markdown",
   "id": "977b69ef",
   "metadata": {},
   "source": [
    "# Underfitting y Overfitting en Modelos Polinomiales"
   ]
  },
  {
   "cell_type": "markdown",
   "id": "52a30731",
   "metadata": {},
   "source": [
    "En este ejemplo, generaremos un dataset basado en un polinomio de grado 2 y veremos cómo ajustan diferentes modelos de regresión con grados crecientes. Observaremos los errores de entrenamiento y testeo para analizar los conceptos de underfitting y overfitting."
   ]
  },
  {
   "cell_type": "code",
   "execution_count": 1,
   "id": "09b34fe5",
   "metadata": {},
   "outputs": [
    {
     "ename": "ModuleNotFoundError",
     "evalue": "No module named 'numpy'",
     "output_type": "error",
     "traceback": [
      "\u001b[31m---------------------------------------------------------------------------\u001b[39m",
      "\u001b[31mModuleNotFoundError\u001b[39m                       Traceback (most recent call last)",
      "\u001b[36mCell\u001b[39m\u001b[36m \u001b[39m\u001b[32mIn[1]\u001b[39m\u001b[32m, line 1\u001b[39m\n\u001b[32m----> \u001b[39m\u001b[32m1\u001b[39m \u001b[38;5;28;01mimport\u001b[39;00m\u001b[38;5;250m \u001b[39m\u001b[34;01mnumpy\u001b[39;00m\u001b[38;5;250m \u001b[39m\u001b[38;5;28;01mas\u001b[39;00m\u001b[38;5;250m \u001b[39m\u001b[34;01mnp\u001b[39;00m\n\u001b[32m      2\u001b[39m \u001b[38;5;28;01mimport\u001b[39;00m\u001b[38;5;250m \u001b[39m\u001b[34;01mmatplotlib\u001b[39;00m\u001b[34;01m.\u001b[39;00m\u001b[34;01mpyplot\u001b[39;00m\u001b[38;5;250m \u001b[39m\u001b[38;5;28;01mas\u001b[39;00m\u001b[38;5;250m \u001b[39m\u001b[34;01mplt\u001b[39;00m\n\u001b[32m      3\u001b[39m \u001b[38;5;28;01mfrom\u001b[39;00m\u001b[38;5;250m \u001b[39m\u001b[34;01msklearn\u001b[39;00m\u001b[34;01m.\u001b[39;00m\u001b[34;01mmodel_selection\u001b[39;00m\u001b[38;5;250m \u001b[39m\u001b[38;5;28;01mimport\u001b[39;00m train_test_split\n",
      "\u001b[31mModuleNotFoundError\u001b[39m: No module named 'numpy'"
     ]
    }
   ],
   "source": [
    "import numpy as np\n",
    "import matplotlib.pyplot as plt\n",
    "from sklearn.model_selection import train_test_split\n",
    "from sklearn.preprocessing import PolynomialFeatures\n",
    "from sklearn.linear_model import LinearRegression\n",
    "from sklearn.metrics import mean_squared_error\n",
    "\n",
    "# Generar dataset basado en un polinomio de grado 2 con algo de ruido\n",
    "np.random.seed(42)\n",
    "n_samples = 100\n",
    "X = np.random.uniform(-10, 10, size=n_samples)\n",
    "y = 1.5 * X**2 - 3.0 * X + 2 + np.random.normal(0, 10, size=n_samples)\n",
    "\n",
    "# Separar en conjuntos de entrenamiento y prueba\n",
    "X_train, X_test, y_train, y_test = train_test_split(X, y, test_size=0.3, random_state=42)\n",
    "\n",
    "# Función para ajustar y mostrar los resultados con diferentes grados del polinomio\n",
    "def ajustar_modelo(grado):\n",
    "    poly = PolynomialFeatures(degree=grado)\n",
    "    X_train_poly = poly.fit_transform(X_train.reshape(-1, 1))\n",
    "    X_test_poly = poly.transform(X_test.reshape(-1, 1))\n",
    "\n",
    "    modelo = LinearRegression()\n",
    "    modelo.fit(X_train_poly, y_train)\n",
    "    \n",
    "    y_train_pred = modelo.predict(X_train_poly)\n",
    "    y_test_pred = modelo.predict(X_test_poly)\n",
    "\n",
    "    train_error = mean_squared_error(y_train, y_train_pred)\n",
    "    test_error = mean_squared_error(y_test, y_test_pred)\n",
    "    \n",
    "    return modelo, train_error, test_error, poly\n",
    "\n",
    "# Ajustar diferentes modelos\n",
    "modelos = {}\n",
    "train_errors = []\n",
    "test_errors = []\n",
    "\n",
    "for grado in range(1, 6):  # Probar de grado 1 a 5\n",
    "    modelo, train_error, test_error, poly = ajustar_modelo(grado)\n",
    "    modelos[grado] = (modelo, poly)\n",
    "    train_errors.append(train_error)\n",
    "    test_errors.append(test_error)\n",
    "\n",
    "# Graficar errores de entrenamiento y prueba\n",
    "plt.figure(figsize=(10, 6))\n",
    "plt.plot(range(1, 6), train_errors, label=\"Error de Entrenamiento\", marker='o')\n",
    "plt.plot(range(1, 6), test_errors, label=\"Error de Testeo\", marker='o')\n",
    "plt.xlabel(\"Grado del Polinomio\")\n",
    "plt.ylabel(\"Error Cuadrático Medio\")\n",
    "plt.title(\"Error de Entrenamiento y Testeo vs Grado del Polinomio\")\n",
    "plt.legend()\n",
    "plt.grid(True)\n",
    "plt.show()\n"
   ]
  },
  {
   "cell_type": "markdown",
   "id": "8894b6c1",
   "metadata": {},
   "source": [
    "Podemos ver que con un modelo lineal (grado 1), el error de entrenamiento y testeo es alto, lo que indica underfitting. A medida que aumentamos el grado del polinomio, el error de entrenamiento disminuye, pero el error de testeo comienza a aumentar con grados mayores, lo que sugiere overfitting."
   ]
  },
  {
   "cell_type": "markdown",
   "id": "f13f07c4",
   "metadata": {},
   "source": [
    "## Regularización para Evitar Overfitting\n",
    "En esta sección, agregamos regularización (Ridge y Lasso) para evitar el sobreajuste en los modelos polinomiales."
   ]
  },
  {
   "cell_type": "code",
   "execution_count": null,
   "id": "e6ecef07",
   "metadata": {},
   "outputs": [],
   "source": [
    "from sklearn.linear_model import Ridge, Lasso\n",
    "\n",
    "# Función para ajustar y mostrar los resultados con regularización\n",
    "def ajustar_modelo_con_regularizacion(grado, regularizacion='ridge', alpha=1.0):\n",
    "    poly = PolynomialFeatures(degree=grado)\n",
    "    X_train_poly = poly.fit_transform(X_train.reshape(-1, 1))\n",
    "    X_test_poly = poly.transform(X_test.reshape(-1, 1))\n",
    "\n",
    "    if regularizacion == 'ridge':\n",
    "        modelo = Ridge(alpha=alpha)\n",
    "    elif regularizacion == 'lasso':\n",
    "        modelo = Lasso(alpha=alpha)\n",
    "    \n",
    "    modelo.fit(X_train_poly, y_train)\n",
    "    \n",
    "    y_train_pred = modelo.predict(X_train_poly)\n",
    "    y_test_pred = modelo.predict(X_test_poly)\n",
    "\n",
    "    train_error = mean_squared_error(y_train, y_train_pred)\n",
    "    test_error = mean_squared_error(y_test, y_test_pred)\n",
    "    \n",
    "    return modelo, train_error, test_error, poly\n",
    "\n",
    "# Ajustar diferentes modelos con regularización Ridge y Lasso\n",
    "train_errors_ridge = []\n",
    "test_errors_ridge = []\n",
    "train_errors_lasso = []\n",
    "test_errors_lasso = []\n",
    "\n",
    "for grado in range(1, 6):\n",
    "    _, train_error_ridge, test_error_ridge, _ = ajustar_modelo_con_regularizacion(grado, 'ridge', alpha=0.1)\n",
    "    _, train_error_lasso, test_error_lasso, _ = ajustar_modelo_con_regularizacion(grado, 'lasso', alpha=0.1)\n",
    "    train_errors_ridge.append(train_error_ridge)\n",
    "    test_errors_ridge.append(test_error_ridge)\n",
    "    train_errors_lasso.append(train_error_lasso)\n",
    "    test_errors_lasso.append(test_error_lasso)\n",
    "\n",
    "# Graficar errores de entrenamiento y prueba con Ridge y Lasso\n",
    "plt.figure(figsize=(12, 6))\n",
    "\n",
    "# Ridge regularization\n",
    "plt.subplot(1, 2, 1)\n",
    "plt.plot(range(1, 6), train_errors_ridge, label=\"Error de Entrenamiento Ridge\", marker='o')\n",
    "plt.plot(range(1, 6), test_errors_ridge, label=\"Error de Testeo Ridge\", marker='o')\n",
    "plt.xlabel(\"Grado del Polinomio\")\n",
    "plt.ylabel(\"Error Cuadrático Medio\")\n",
    "plt.title(\"Ridge: Error de Entrenamiento y Testeo vs Grado del Polinomio\")\n",
    "plt.legend()\n",
    "plt.grid(True)\n",
    "\n",
    "# Lasso regularization\n",
    "plt.subplot(1, 2, 2)\n",
    "plt.plot(range(1, 6), train_errors_lasso, label=\"Error de Entrenamiento Lasso\", marker='o')\n",
    "plt.plot(range(1, 6), test_errors_lasso, label=\"Error de Testeo Lasso\", marker='o')\n",
    "plt.xlabel(\"Grado del Polinomio\")\n",
    "plt.ylabel(\"Error Cuadrático Medio\")\n",
    "plt.title(\"Lasso: Error de Entrenamiento y Testeo vs Grado del Polinomio\")\n",
    "plt.legend()\n",
    "plt.grid(True)\n",
    "\n",
    "plt.tight_layout()\n",
    "plt.show()"
   ]
  }
 ],
 "metadata": {
  "language_info": {
   "codemirror_mode": {
    "name": "ipython",
    "version": 3
   },
   "file_extension": ".py",
   "mimetype": "text/x-python",
   "name": "python",
   "nbconvert_exporter": "python",
   "pygments_lexer": "ipython3",
   "version": "3.13.2"
  }
 },
 "nbformat": 4,
 "nbformat_minor": 5
}