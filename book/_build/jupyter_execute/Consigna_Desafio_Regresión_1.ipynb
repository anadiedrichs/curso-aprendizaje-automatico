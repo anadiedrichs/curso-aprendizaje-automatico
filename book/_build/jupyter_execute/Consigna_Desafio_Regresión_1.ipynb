{
 "cells": [
  {
   "cell_type": "markdown",
   "metadata": {
    "colab_type": "text",
    "id": "view-in-github"
   },
   "source": [
    "<a href=\"https://colab.research.google.com/github/anadiedrichs/curso-aprendizaje-automatico/blob/main/Consigna_Desafio_Regresi%C3%B3n_1.ipynb\" target=\"_parent\"><img src=\"https://colab.research.google.com/assets/colab-badge.svg\" alt=\"Open In Colab\"/></a>"
   ]
  },
  {
   "cell_type": "markdown",
   "metadata": {
    "id": "PA_K-G-ztGNZ"
   },
   "source": [
    "# Dataset\n",
    "\n",
    "Genere un dataset sintético con al menos 4 variables y una variable continua para usarlo luego en regresión.\n",
    "\n"
   ]
  },
  {
   "cell_type": "code",
   "execution_count": null,
   "metadata": {
    "id": "uddO_IbetVys"
   },
   "outputs": [],
   "source": []
  },
  {
   "cell_type": "markdown",
   "metadata": {
    "id": "QZ6peniZtXJF"
   },
   "source": [
    "Describa como generó los datos."
   ]
  },
  {
   "cell_type": "markdown",
   "metadata": {
    "id": "JBsmkKcXtaUH"
   },
   "source": [
    "## Preprocesamiento\n",
    "\n",
    "Indique e implemente el pre-procesamiento necesario previo a entrenar los modelos"
   ]
  },
  {
   "cell_type": "code",
   "execution_count": null,
   "metadata": {
    "id": "bIOAjddrth75"
   },
   "outputs": [],
   "source": []
  },
  {
   "cell_type": "markdown",
   "metadata": {
    "id": "sn2bE4Ahtib7"
   },
   "source": []
  },
  {
   "cell_type": "code",
   "execution_count": null,
   "metadata": {
    "id": "1QZfxp7utivZ"
   },
   "outputs": [],
   "source": []
  },
  {
   "cell_type": "markdown",
   "metadata": {
    "id": "lWk1FojvthZ-"
   },
   "source": [
    "## Modelos"
   ]
  },
  {
   "cell_type": "markdown",
   "metadata": {
    "id": "fcWx12wStpQJ"
   },
   "source": [
    "Elija al menos dos modelos de regresión de los vistos en clases.\n",
    "Entrene dichos modelos.\n",
    "Detalle los hiperparámetros elegidos."
   ]
  },
  {
   "cell_type": "code",
   "execution_count": null,
   "metadata": {
    "id": "gasE2y2ttpaa"
   },
   "outputs": [],
   "source": []
  },
  {
   "cell_type": "markdown",
   "metadata": {
    "id": "Sxmj7GNVt5Q3"
   },
   "source": [
    "## Evaluación"
   ]
  },
  {
   "cell_type": "markdown",
   "metadata": {
    "id": "rrvjbghzt8CN"
   },
   "source": [
    "Evalue el desempeño de los modelos indicando las métricas, metodología y conjunto de datos utilizados."
   ]
  },
  {
   "cell_type": "code",
   "execution_count": null,
   "metadata": {
    "id": "SCO-kgyct6q8"
   },
   "outputs": [],
   "source": []
  },
  {
   "cell_type": "markdown",
   "metadata": {
    "id": "ec3tJxLJtVFL"
   },
   "source": [
    "\n",
    "## Ejercicio de hiper parámetro tunning.\n",
    "\n",
    "Modificar uno de los modelos para probarlo con diferentes valores para uno de sus hiperparámetros, indicando para cuáles se evidencia subajuste y en cuáles sobreajuste.\n",
    "\n",
    "Grafique la métrica de desempeño vs los valores del hiperarámetro para observar ambas curvas de error durante el entrenamiento y durante el testeo.\n",
    "\n",
    "\n"
   ]
  },
  {
   "cell_type": "markdown",
   "metadata": {
    "id": "WKoP_C5dunUB"
   },
   "source": []
  },
  {
   "cell_type": "code",
   "execution_count": null,
   "metadata": {
    "id": "U4ACQYhrunek"
   },
   "outputs": [],
   "source": []
  }
 ],
 "metadata": {
  "colab": {
   "authorship_tag": "ABX9TyP+AaX9nkHwy+dxXCag8hMu",
   "include_colab_link": true,
   "provenance": []
  },
  "kernelspec": {
   "display_name": "Python 3",
   "name": "python3"
  },
  "language_info": {
   "codemirror_mode": {
    "name": "ipython",
    "version": 3
   },
   "file_extension": ".py",
   "mimetype": "text/x-python",
   "name": "python",
   "nbconvert_exporter": "python",
   "pygments_lexer": "ipython3",
   "version": "3.13.2"
  }
 },
 "nbformat": 4,
 "nbformat_minor": 0
}